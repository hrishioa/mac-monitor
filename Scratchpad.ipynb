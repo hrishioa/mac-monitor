{
 "cells": [
  {
   "cell_type": "markdown",
   "metadata": {},
   "source": [
    "## Plotly testing"
   ]
  },
  {
   "cell_type": "code",
   "execution_count": 63,
   "metadata": {},
   "outputs": [
    {
     "data": {
      "text/html": [
       "<script>requirejs.config({paths: { 'plotly': ['https://cdn.plot.ly/plotly-latest.min']},});if(!window.Plotly) {{require(['plotly'],function(plotly) {window.Plotly=plotly;});}}</script>"
      ],
      "text/vnd.plotly.v1+html": [
       "<script>requirejs.config({paths: { 'plotly': ['https://cdn.plot.ly/plotly-latest.min']},});if(!window.Plotly) {{require(['plotly'],function(plotly) {window.Plotly=plotly;});}}</script>"
      ]
     },
     "metadata": {},
     "output_type": "display_data"
    }
   ],
   "source": [
    "import pandas as pd\n",
    "import numpy as np\n",
    "import scipy as sp\n",
    "import plotly.figure_factory as ff\n",
    "import plotly.graph_objs as go\n",
    "import plotly.plotly as py\n",
    "import plotly.tools as pytools\n",
    "import matplotlib.pyplot as plt\n",
    "import datetime\n",
    "from plotly.offline import init_notebook_mode, iplot\n",
    "init_notebook_mode(connected=True)\n",
    "pytools.set_credentials_file(username='hrishioa', api_key='xFpLRfOD7le9KEQU2DuE')"
   ]
  },
  {
   "cell_type": "code",
   "execution_count": 2,
   "metadata": {},
   "outputs": [],
   "source": [
    "# Uncomment to view as spreadsheet\n",
    "# df_temp = pd.read_csv(\"calibrated_with_dates.csv\",nrows=10)\n",
    "# sample_data_table = ff.create_table(df.head())\n",
    "# py.iplot(sample_data_table, filename='sample-data-table')"
   ]
  },
  {
   "cell_type": "code",
   "execution_count": 36,
   "metadata": {
    "collapsed": true
   },
   "outputs": [],
   "source": []
  },
  {
   "cell_type": "code",
   "execution_count": 89,
   "metadata": {},
   "outputs": [],
   "source": [
    "def plotDataFrame(datafile, filename):\n",
    "    \n",
    "    df = pd.read_csv(datafile)\n",
    "    \n",
    "    if 'DateTime' not in df:\n",
    "        df['DateTime'] = [datetime.datetime.fromtimestamp(v) for v in df['Time']]\n",
    "\n",
    "    def slice(charge, time, start = 0 , sd = 60):\n",
    "        start_pos = start\n",
    "        end_pos = start_pos+1\n",
    "\n",
    "        while end_pos < len(time) and charge[end_pos-1] == charge[end_pos]: \n",
    "            start_pos = end_pos\n",
    "            end_pos = start_pos + 1\n",
    "\n",
    "        while True:\n",
    "            if end_pos >= len(time) or end_pos >= len(charge):\n",
    "                break\n",
    "            if abs((time[end_pos] - time[end_pos-1])-60) >= sd or charge[end_pos-1] < charge[end_pos]:\n",
    "                if end_pos > start_pos+1:\n",
    "                    break\n",
    "                start_pos = end_pos\n",
    "            end_pos += 1            \n",
    "        return start_pos, end_pos\n",
    "\n",
    "    def get_slices(charge, time):\n",
    "        slices = []\n",
    "        s = 0\n",
    "        while s < len(time):\n",
    "            start, end = slice(charge,time,s)\n",
    "            if(end >= len(time)):\n",
    "                slices.append((start,len(time)-1))\n",
    "            else:\n",
    "                slices.append((start,end))\n",
    "            s = end\n",
    "        return slices\n",
    "\n",
    "    slices = get_slices(df['Charge'], df['Time'])\n",
    "    buttons = list()\n",
    "\n",
    "    for i in xrange(1,len(df.keys())-1):\n",
    "        if i==3: continue\n",
    "        opacity = [1 if j==2 or j==i-1 else 0.1 for j in xrange(0,len(df.keys())-1)]\n",
    "        label = df.keys()[i]\n",
    "        buttons.append(dict(label=label,method=\"update\",args=[{'opacity': opacity}]))\n",
    "    \n",
    "    for i in xrange(0, len(slices)):\n",
    "        buttons.append(dict(\n",
    "            label=(\"Window %d\" % i),\n",
    "            method=\"relayout\",\n",
    "            args = [{'xaxis.range':[df['DateTime'][slices[i][0]],df['DateTime'][slices[i][1]]]}]\n",
    "        ))\n",
    "        \n",
    "    \n",
    "\n",
    "    updatemenus = list([\n",
    "        dict(buttons=buttons\n",
    "        )\n",
    "    ])\n",
    "    \n",
    "    traces = []\n",
    "    \n",
    "    for i in xrange(1, len(df.keys())-1):\n",
    "        traces.append(go.Scatter(\n",
    "            x=df['DateTime'],y=df[df.keys()[i]],mode='lines',name=df.keys()[i], yaxis=\"y%d\" % i))\n",
    "\n",
    "    layout = go.Layout(title='Complete Equalised Plot',\n",
    "                       margin=dict(l=200),\n",
    "                       updatemenus=updatemenus,\n",
    "                       xaxis=dict(\n",
    "                            rangeslider=dict(),\n",
    "                            type='DateTime'\n",
    "                       ),\n",
    "                       yaxis=dict(autorange=True,showgrid=False,showticklabels=False,),\n",
    "                       yaxis2=dict(autorange=True,showgrid=False,showticklabels=False,overlaying='y'),\n",
    "                       yaxis3=dict(autorange=True,showticklabels=False,overlaying='y'),\n",
    "                       yaxis4=dict(autorange=True,showgrid=False,showticklabels=False,overlaying='y'),\n",
    "                       yaxis5=dict(autorange=True,showgrid=False,showticklabels=False,overlaying='y'),                  \n",
    "                       yaxis6=dict(autorange=True,showgrid=False,showticklabels=False,overlaying='y'),                  \n",
    "                       yaxis7=dict(autorange=True,showgrid=False,showticklabels=False,overlaying='y'),                  \n",
    "                       yaxis8=dict(autorange=True,showgrid=False,showticklabels=False,overlaying='y'),                  \n",
    "                      )\n",
    "    fig = go.Figure(data=traces, layout=layout)\n",
    "    return slices,py.iplot(fig, filename=filename)"
   ]
  },
  {
   "cell_type": "code",
   "execution_count": 95,
   "metadata": {},
   "outputs": [
    {
     "data": {
      "text/html": [
       "<iframe id=\"igraph\" scrolling=\"no\" style=\"border:none;\" seamless=\"seamless\" src=\"https://plot.ly/~hrishioa/9.embed\" height=\"525px\" width=\"100%\"></iframe>"
      ],
      "text/plain": [
       "<plotly.tools.PlotlyDisplay object>"
      ]
     },
     "execution_count": 95,
     "metadata": {},
     "output_type": "execute_result"
    }
   ],
   "source": [
    "slices, ploturl = plotDataFrame(\"uncalibrated_with_dates.csv\", filename=\"battery_plot2\")\n",
    "ploturl"
   ]
  },
  {
   "cell_type": "code",
   "execution_count": 91,
   "metadata": {},
   "outputs": [],
   "source": [
    "slices, ploturl = plotDataFrame(\"calibrated_with_dates.csv\", filename=\"battery_plot2\")"
   ]
  },
  {
   "cell_type": "code",
   "execution_count": 80,
   "metadata": {},
   "outputs": [
    {
     "data": {
      "text/plain": [
       "10"
      ]
     },
     "execution_count": 80,
     "metadata": {},
     "output_type": "execute_result"
    }
   ],
   "source": [
    "len(df.keys())"
   ]
  },
  {
   "cell_type": "code",
   "execution_count": 92,
   "metadata": {},
   "outputs": [
    {
     "data": {
      "text/html": [
       "<iframe id=\"igraph\" scrolling=\"no\" style=\"border:none;\" seamless=\"seamless\" src=\"https://plot.ly/~hrishioa/9.embed\" height=\"525px\" width=\"100%\"></iframe>"
      ],
      "text/plain": [
       "<plotly.tools.PlotlyDisplay object>"
      ]
     },
     "execution_count": 92,
     "metadata": {},
     "output_type": "execute_result"
    }
   ],
   "source": [
    "ploturl"
   ]
  },
  {
   "cell_type": "code",
   "execution_count": null,
   "metadata": {
    "collapsed": true
   },
   "outputs": [],
   "source": []
  }
 ],
 "metadata": {
  "kernelspec": {
   "display_name": "Python 2",
   "language": "python",
   "name": "python2"
  },
  "language_info": {
   "codemirror_mode": {
    "name": "ipython",
    "version": 2
   },
   "file_extension": ".py",
   "mimetype": "text/x-python",
   "name": "python",
   "nbconvert_exporter": "python",
   "pygments_lexer": "ipython2",
   "version": "2.7.13"
  }
 },
 "nbformat": 4,
 "nbformat_minor": 2
}
